{
 "cells": [
  {
   "cell_type": "markdown",
   "metadata": {},
   "source": [
    "STEP 1: IMPORTING THE NECCESSARY LIBRARIES AND TOOLS"
   ]
  },
  {
   "cell_type": "code",
   "execution_count": 32,
   "metadata": {},
   "outputs": [],
   "source": [
    "import pdfplumber\n",
    "import pickle\n",
    "import pandas as pd\n",
    "import numpy as np\n",
    "import matplotlib.pyplot as plt\n",
    "from sklearn.preprocessing import LabelEncoder\n",
    "from sklearn.model_selection import train_test_split\n",
    "from sklearn.linear_model import LogisticRegression\n",
    "from sklearn.ensemble import RandomForestClassifier\n",
    "from sklearn.metrics import accuracy_score, precision_score, recall_score, f1_score"
   ]
  },
  {
   "cell_type": "markdown",
   "metadata": {},
   "source": [
    "STEP 2: LOADING THE DATA TO DRAW INSIGHT. THIS IS QUITE DIFFERENT FROM THE .CSV FILES SO IT INVOLVES A DIFFERENT APPROACH, WHICH I'LL MAKE USE OF THE PDFPLUMBER LIBRARY"
   ]
  },
  {
   "cell_type": "code",
   "execution_count": 33,
   "metadata": {},
   "outputs": [],
   "source": [
    "import pdfplumber\n",
    "import pandas as pd\n",
    "\n",
    "# Open the PDF and extract text\n",
    "with pdfplumber.open('Churn_Prediction_Dataset_Sample.pdf') as pdf:\n",
    "    pages = pdf.pages\n",
    "    data = []\n",
    "    for page in pages:\n",
    "        tables = page.extract_tables()\n",
    "        for table in tables:\n",
    "            data.extend(table)\n",
    "\n",
    "# Convert extracted data to a DataFrame\n",
    "data = pd.DataFrame(data[1:], columns=data[0])  # Assuming the first row is the header\n"
   ]
  },
  {
   "cell_type": "code",
   "execution_count": 34,
   "metadata": {},
   "outputs": [
    {
     "data": {
      "text/html": [
       "<div>\n",
       "<style scoped>\n",
       "    .dataframe tbody tr th:only-of-type {\n",
       "        vertical-align: middle;\n",
       "    }\n",
       "\n",
       "    .dataframe tbody tr th {\n",
       "        vertical-align: top;\n",
       "    }\n",
       "\n",
       "    .dataframe thead th {\n",
       "        text-align: right;\n",
       "    }\n",
       "</style>\n",
       "<table border=\"1\" class=\"dataframe\">\n",
       "  <thead>\n",
       "    <tr style=\"text-align: right;\">\n",
       "      <th></th>\n",
       "      <th>CustomerID</th>\n",
       "      <th>SignupDate</th>\n",
       "      <th>Age</th>\n",
       "      <th>TenureMontUhss</th>\n",
       "      <th>agePatternScPo</th>\n",
       "      <th>areymentHistoEr</th>\n",
       "      <th>nygagementLev</th>\n",
       "      <th>elChurnLabel</th>\n",
       "    </tr>\n",
       "  </thead>\n",
       "  <tbody>\n",
       "    <tr>\n",
       "      <th>0</th>\n",
       "      <td>1</td>\n",
       "      <td>1986-07-07</td>\n",
       "      <td>33</td>\n",
       "      <td>3</td>\n",
       "      <td>0.2009</td>\n",
       "      <td>Fair</td>\n",
       "      <td>High</td>\n",
       "      <td>0</td>\n",
       "    </tr>\n",
       "    <tr>\n",
       "      <th>1</th>\n",
       "      <td>2</td>\n",
       "      <td>1986-07-08</td>\n",
       "      <td>20</td>\n",
       "      <td>41</td>\n",
       "      <td>0.2969</td>\n",
       "      <td>Good</td>\n",
       "      <td>Medium</td>\n",
       "      <td>0</td>\n",
       "    </tr>\n",
       "    <tr>\n",
       "      <th>2</th>\n",
       "      <td>3</td>\n",
       "      <td>1986-07-09</td>\n",
       "      <td>62</td>\n",
       "      <td>17</td>\n",
       "      <td>0.0587</td>\n",
       "      <td>Good</td>\n",
       "      <td>Low</td>\n",
       "      <td>0</td>\n",
       "    </tr>\n",
       "    <tr>\n",
       "      <th>3</th>\n",
       "      <td>4</td>\n",
       "      <td>1986-07-10</td>\n",
       "      <td>37</td>\n",
       "      <td>3</td>\n",
       "      <td>0.8604</td>\n",
       "      <td>Good</td>\n",
       "      <td>Medium</td>\n",
       "      <td>1</td>\n",
       "    </tr>\n",
       "    <tr>\n",
       "      <th>4</th>\n",
       "      <td>5</td>\n",
       "      <td>1986-07-11</td>\n",
       "      <td>33</td>\n",
       "      <td>7</td>\n",
       "      <td>0.9312</td>\n",
       "      <td>Good</td>\n",
       "      <td>High</td>\n",
       "      <td>0</td>\n",
       "    </tr>\n",
       "  </tbody>\n",
       "</table>\n",
       "</div>"
      ],
      "text/plain": [
       "  CustomerID  SignupDate Age TenureMontUhss agePatternScPo areymentHistoEr  \\\n",
       "0          1  1986-07-07  33              3         0.2009            Fair   \n",
       "1          2  1986-07-08  20             41         0.2969            Good   \n",
       "2          3  1986-07-09  62             17         0.0587            Good   \n",
       "3          4  1986-07-10  37              3         0.8604            Good   \n",
       "4          5  1986-07-11  33              7         0.9312            Good   \n",
       "\n",
       "  nygagementLev elChurnLabel  \n",
       "0          High            0  \n",
       "1        Medium            0  \n",
       "2           Low            0  \n",
       "3        Medium            1  \n",
       "4          High            0  "
      ]
     },
     "execution_count": 34,
     "metadata": {},
     "output_type": "execute_result"
    }
   ],
   "source": [
    "data.head(5)"
   ]
  },
  {
   "cell_type": "code",
   "execution_count": 35,
   "metadata": {},
   "outputs": [
    {
     "name": "stdout",
     "output_type": "stream",
     "text": [
      "<class 'pandas.core.frame.DataFrame'>\n",
      "RangeIndex: 10 entries, 0 to 9\n",
      "Data columns (total 8 columns):\n",
      " #   Column           Non-Null Count  Dtype \n",
      "---  ------           --------------  ----- \n",
      " 0   CustomerID       10 non-null     object\n",
      " 1   SignupDate       10 non-null     object\n",
      " 2   Age              10 non-null     object\n",
      " 3   TenureMontUhss   10 non-null     object\n",
      " 4   agePatternScPo   10 non-null     object\n",
      " 5   areymentHistoEr  10 non-null     object\n",
      " 6   nygagementLev    10 non-null     object\n",
      " 7   elChurnLabel     10 non-null     object\n",
      "dtypes: object(8)\n",
      "memory usage: 768.0+ bytes\n"
     ]
    },
    {
     "data": {
      "text/html": [
       "<div>\n",
       "<style scoped>\n",
       "    .dataframe tbody tr th:only-of-type {\n",
       "        vertical-align: middle;\n",
       "    }\n",
       "\n",
       "    .dataframe tbody tr th {\n",
       "        vertical-align: top;\n",
       "    }\n",
       "\n",
       "    .dataframe thead th {\n",
       "        text-align: right;\n",
       "    }\n",
       "</style>\n",
       "<table border=\"1\" class=\"dataframe\">\n",
       "  <thead>\n",
       "    <tr style=\"text-align: right;\">\n",
       "      <th></th>\n",
       "      <th>CustomerID</th>\n",
       "      <th>SignupDate</th>\n",
       "      <th>Age</th>\n",
       "      <th>TenureMontUhss</th>\n",
       "      <th>agePatternScPo</th>\n",
       "      <th>areymentHistoEr</th>\n",
       "      <th>nygagementLev</th>\n",
       "      <th>elChurnLabel</th>\n",
       "    </tr>\n",
       "  </thead>\n",
       "  <tbody>\n",
       "    <tr>\n",
       "      <th>count</th>\n",
       "      <td>10</td>\n",
       "      <td>10</td>\n",
       "      <td>10</td>\n",
       "      <td>10</td>\n",
       "      <td>10</td>\n",
       "      <td>10</td>\n",
       "      <td>10</td>\n",
       "      <td>10</td>\n",
       "    </tr>\n",
       "    <tr>\n",
       "      <th>unique</th>\n",
       "      <td>10</td>\n",
       "      <td>10</td>\n",
       "      <td>9</td>\n",
       "      <td>9</td>\n",
       "      <td>10</td>\n",
       "      <td>3</td>\n",
       "      <td>3</td>\n",
       "      <td>2</td>\n",
       "    </tr>\n",
       "    <tr>\n",
       "      <th>top</th>\n",
       "      <td>1</td>\n",
       "      <td>1986-07-07</td>\n",
       "      <td>33</td>\n",
       "      <td>3</td>\n",
       "      <td>0.2009</td>\n",
       "      <td>Good</td>\n",
       "      <td>High</td>\n",
       "      <td>0</td>\n",
       "    </tr>\n",
       "    <tr>\n",
       "      <th>freq</th>\n",
       "      <td>1</td>\n",
       "      <td>1</td>\n",
       "      <td>2</td>\n",
       "      <td>2</td>\n",
       "      <td>1</td>\n",
       "      <td>5</td>\n",
       "      <td>4</td>\n",
       "      <td>6</td>\n",
       "    </tr>\n",
       "  </tbody>\n",
       "</table>\n",
       "</div>"
      ],
      "text/plain": [
       "       CustomerID  SignupDate Age TenureMontUhss agePatternScPo  \\\n",
       "count          10          10  10             10             10   \n",
       "unique         10          10   9              9             10   \n",
       "top             1  1986-07-07  33              3         0.2009   \n",
       "freq            1           1   2              2              1   \n",
       "\n",
       "       areymentHistoEr nygagementLev elChurnLabel  \n",
       "count               10            10           10  \n",
       "unique               3             3            2  \n",
       "top               Good          High            0  \n",
       "freq                 5             4            6  "
      ]
     },
     "execution_count": 35,
     "metadata": {},
     "output_type": "execute_result"
    }
   ],
   "source": [
    "data.info()\n",
    "data.describe()"
   ]
  },
  {
   "cell_type": "markdown",
   "metadata": {},
   "source": [
    "STEP 3: THE DATA PREPROCESSING STAGE; WHICH ENTAILS RENAMING THE COLUMNS DUE TO MISPELT WORDS, CONVERT DATATYPES, HANDLING MISSING VALUES, REMOVING OUTLIERS AND CONVERTING CATEGORICAL VALUES TO NUMERIC VALUES"
   ]
  },
  {
   "cell_type": "code",
   "execution_count": 36,
   "metadata": {},
   "outputs": [],
   "source": [
    "data.rename(columns={\n",
    "    \"CustomerID\": \"CustomerID\",\n",
    "    \"SignupDate\": \"SignupDate\",\n",
    "    \"Age\": \"Age\",\n",
    "    \"TenureMontUhss\": \"TenureMonths\",\n",
    "    \"agePatternScPo\": \"UsagePatternScore\",   \n",
    "    \"areymentHistoEr\": \"PaymentHistory\",\n",
    "    \"nygagementLev\": \"EngagementLevel\",     \n",
    "    \"elChurnLabel\": \"ChurnLabel\" \n",
    "}, inplace=True)\n"
   ]
  },
  {
   "cell_type": "code",
   "execution_count": 37,
   "metadata": {},
   "outputs": [
    {
     "name": "stdout",
     "output_type": "stream",
     "text": [
      "CustomerID                   object\n",
      "SignupDate           datetime64[ns]\n",
      "Age                           int64\n",
      "TenureMonths                  int32\n",
      "UsagePatternScore            object\n",
      "PaymentHistory               object\n",
      "EngagementLevel              object\n",
      "ChurnLabel                   object\n",
      "dtype: object\n"
     ]
    }
   ],
   "source": [
    "# Convert necessary columns to numeric (use the appropriate column names)\n",
    "data['Age'] = pd.to_numeric(data['Age'], errors=\"coerce\")\n",
    "# Convert 'TenureMonths' to numeric by stripping non-numeric characters\n",
    "data['TenureMonths'] = data['TenureMonths'].str.extract('(\\d+)').astype(int)\n",
    "\n",
    "\n",
    "data['SignupDate'] = pd.to_datetime(data['SignupDate'], errors=\"coerce\")\n",
    "print(data.dtypes)"
   ]
  },
  {
   "cell_type": "code",
   "execution_count": 38,
   "metadata": {},
   "outputs": [],
   "source": [
    "data.columns\n",
    "data.drop(columns='CustomerID', inplace=True)"
   ]
  },
  {
   "cell_type": "code",
   "execution_count": 39,
   "metadata": {},
   "outputs": [],
   "source": [
    "le = LabelEncoder()\n",
    "data['PaymentHistory'] = le.fit_transform(data['PaymentHistory'])\n",
    "data['EngagementLevel'] = le.fit_transform(data['EngagementLevel'])\n",
    "data['UsagePatternScore'] = le.fit_transform(data['UsagePatternScore'])\n",
    "data['ChurnLabel'] = le.fit_transform(data['ChurnLabel'])"
   ]
  },
  {
   "cell_type": "code",
   "execution_count": 40,
   "metadata": {},
   "outputs": [
    {
     "name": "stdout",
     "output_type": "stream",
     "text": [
      "<class 'pandas.core.frame.DataFrame'>\n",
      "RangeIndex: 10 entries, 0 to 9\n",
      "Data columns (total 7 columns):\n",
      " #   Column             Non-Null Count  Dtype         \n",
      "---  ------             --------------  -----         \n",
      " 0   SignupDate         10 non-null     datetime64[ns]\n",
      " 1   Age                10 non-null     int64         \n",
      " 2   TenureMonths       10 non-null     int32         \n",
      " 3   UsagePatternScore  10 non-null     int32         \n",
      " 4   PaymentHistory     10 non-null     int32         \n",
      " 5   EngagementLevel    10 non-null     int32         \n",
      " 6   ChurnLabel         10 non-null     int32         \n",
      "dtypes: datetime64[ns](1), int32(5), int64(1)\n",
      "memory usage: 488.0 bytes\n"
     ]
    }
   ],
   "source": [
    "data.head(5)\n",
    "data.info()"
   ]
  },
  {
   "cell_type": "code",
   "execution_count": 41,
   "metadata": {},
   "outputs": [],
   "source": [
    "# Convert all integer columns to int64\n",
    "data = data.astype({'TenureMonths': 'int64', 'ChurnLabel': 'int64'})\n"
   ]
  },
  {
   "cell_type": "code",
   "execution_count": 42,
   "metadata": {},
   "outputs": [
    {
     "name": "stdout",
     "output_type": "stream",
     "text": [
      "<class 'pandas.core.frame.DataFrame'>\n",
      "RangeIndex: 10 entries, 0 to 9\n",
      "Data columns (total 7 columns):\n",
      " #   Column             Non-Null Count  Dtype         \n",
      "---  ------             --------------  -----         \n",
      " 0   SignupDate         10 non-null     datetime64[ns]\n",
      " 1   Age                10 non-null     int64         \n",
      " 2   TenureMonths       10 non-null     int64         \n",
      " 3   UsagePatternScore  10 non-null     int32         \n",
      " 4   PaymentHistory     10 non-null     int32         \n",
      " 5   EngagementLevel    10 non-null     int32         \n",
      " 6   ChurnLabel         10 non-null     int64         \n",
      "dtypes: datetime64[ns](1), int32(3), int64(3)\n",
      "memory usage: 568.0 bytes\n"
     ]
    }
   ],
   "source": [
    "data.info()"
   ]
  },
  {
   "cell_type": "markdown",
   "metadata": {},
   "source": [
    "PREPARING THE MODEL BY SELECTING THE FEATURES AND TARGET VARIABLES"
   ]
  },
  {
   "cell_type": "code",
   "execution_count": 43,
   "metadata": {},
   "outputs": [],
   "source": [
    "# Define the feature set (X) by selecting the relevant columns\n",
    "X = data[['Age', 'TenureMonths', 'UsagePatternScore', 'PaymentHistory', 'EngagementLevel']]\n",
    "\n",
    "# Define the target variable (y)\n",
    "y = data['ChurnLabel']\n",
    "\n",
    "\n",
    "X_train, X_test, y_train, y_test = train_test_split(X, y, test_size=0.2, random_state=42)\n",
    "\n"
   ]
  },
  {
   "cell_type": "markdown",
   "metadata": {},
   "source": [
    "PREDICTION MAKING"
   ]
  },
  {
   "cell_type": "code",
   "execution_count": 44,
   "metadata": {},
   "outputs": [],
   "source": [
    "model = RandomForestClassifier(random_state=42)\n",
    "model.fit(X_train, y_train)\n",
    "\n",
    "# Make predictions\n",
    "y_pred = model.predict(X_test)"
   ]
  },
  {
   "cell_type": "code",
   "execution_count": 45,
   "metadata": {},
   "outputs": [
    {
     "name": "stdout",
     "output_type": "stream",
     "text": [
      "The Accuracy score is: 1.0\n",
      "The Precision score is: 0.0\n",
      "The Recall score is: 0.0\n",
      "The F1 Score is: 0.0\n"
     ]
    },
    {
     "name": "stderr",
     "output_type": "stream",
     "text": [
      "c:\\Users\\USER\\anaconda3\\lib\\site-packages\\sklearn\\metrics\\_classification.py:1344: UndefinedMetricWarning: Precision is ill-defined and being set to 0.0 due to no predicted samples. Use `zero_division` parameter to control this behavior.\n",
      "  _warn_prf(average, modifier, msg_start, len(result))\n",
      "c:\\Users\\USER\\anaconda3\\lib\\site-packages\\sklearn\\metrics\\_classification.py:1344: UndefinedMetricWarning: Recall is ill-defined and being set to 0.0 due to no true samples. Use `zero_division` parameter to control this behavior.\n",
      "  _warn_prf(average, modifier, msg_start, len(result))\n",
      "c:\\Users\\USER\\anaconda3\\lib\\site-packages\\sklearn\\metrics\\_classification.py:1609: UndefinedMetricWarning: F-score is ill-defined and being set to 0.0 due to no true nor predicted samples. Use `zero_division` parameter to control this behavior.\n",
      "  _warn_prf(average, \"true nor predicted\", \"F-score is\", len(true_sum))\n"
     ]
    }
   ],
   "source": [
    "accuracy = accuracy_score(y_test, y_pred)\n",
    "precision = precision_score(y_test, y_pred)\n",
    "recall = recall_score(y_test, y_pred)\n",
    "f1 = f1_score(y_test, y_pred)\n",
    "\n",
    "print(f'The Accuracy score is: {accuracy}')\n",
    "print(f'The Precision score is: {precision}')\n",
    "print(f'The Recall score is: {recall}')\n",
    "print(f'The F1 Score is: {f1}')"
   ]
  },
  {
   "cell_type": "markdown",
   "metadata": {},
   "source": [
    "SAVING THE MODEL TO A .PKL FILE"
   ]
  },
  {
   "cell_type": "code",
   "execution_count": 46,
   "metadata": {},
   "outputs": [],
   "source": [
    "# Save the model to a file\n",
    "with open('customer_churn_model.pkl', 'wb') as model_file:\n",
    "    pickle.dump(model, model_file)\n",
    "\n",
    "# To load the model later\n",
    "with open('customer_churn_model.pkl', 'rb') as model_file:\n",
    "    loaded_model = pickle.load(model_file)"
   ]
  },
  {
   "cell_type": "markdown",
   "metadata": {},
   "source": [
    "FEATURE IMPORTANCE"
   ]
  },
  {
   "cell_type": "code",
   "execution_count": 47,
   "metadata": {},
   "outputs": [
    {
     "name": "stdout",
     "output_type": "stream",
     "text": [
      "             Feature  Importance\n",
      "2  UsagePatternScore    0.321322\n",
      "1       TenureMonths    0.203798\n",
      "0                Age    0.174801\n",
      "4    EngagementLevel    0.153371\n",
      "3     PaymentHistory    0.146709\n"
     ]
    },
    {
     "data": {
      "image/png": "[encoded data removed]",
      "text/plain": [
       "<Figure size 1000x600 with 1 Axes>"
      ]
     },
     "metadata": {},
     "output_type": "display_data"
    }
   ],
   "source": [
    "\n",
    "importances = model.feature_importances_\n",
    "feature_names = X.columns  #  X is the DataFrame of features\n",
    "\n",
    "# DataFrame for visualization\n",
    "feature_importance_df = pd.DataFrame({'Feature': feature_names, 'Importance': importances})\n",
    "feature_importance_df = feature_importance_df.sort_values(by='Importance', ascending=False)\n",
    "\n",
    "# Print the feature importances\n",
    "print(feature_importance_df)\n",
    "\n",
    "# Plotting feature importance\n",
    "plt.figure(figsize=(10, 6))\n",
    "plt.barh(feature_importance_df['Feature'], feature_importance_df['Importance'], color='skyblue')\n",
    "plt.xlabel('Importance')\n",
    "plt.title('Feature Importance for Customer Churn Prediction')\n",
    "plt.show()\n"
   ]
  },
  {
   "cell_type": "markdown",
   "metadata": {},
   "source": [
    "MODEL PERFORMANCE SUMMARY"
   ]
  },
  {
   "cell_type": "code",
   "execution_count": 48,
   "metadata": {},
   "outputs": [
    {
     "name": "stdout",
     "output_type": "stream",
     "text": [
      "Model Performance Summary:\n",
      "Model: Random Forest Classifier\n",
      "Accuracy: 1.0\n",
      "Precision: 0.0\n",
      "Recall: 0.0\n",
      "F1 Score: 0.0\n",
      "Limitations: Possible class imbalance affecting precision and recall; model complexity may lead to overfitting.\n"
     ]
    }
   ],
   "source": [
    "# Create a summary report\n",
    "performance_summary = {\n",
    "    'Model': 'Random Forest Classifier',\n",
    "    'Accuracy': accuracy,\n",
    "    'Precision': precision,\n",
    "    'Recall': recall,\n",
    "    'F1 Score': f1,\n",
    "    'Limitations': 'Possible class imbalance affecting precision and recall; model complexity may lead to overfitting.'\n",
    "}\n",
    "\n",
    "# Print the performance summary\n",
    "print(\"Model Performance Summary:\")\n",
    "for key, value in performance_summary.items():\n",
    "    print(f\"{key}: {value}\")\n"
   ]
  },
  {
   "cell_type": "code",
   "execution_count": null,
   "metadata": {},
   "outputs": [],
   "source": []
  }
 ],
 "metadata": {
  "kernelspec": {
   "display_name": "base",
   "language": "python",
   "name": "python3"
  },
  "language_info": {
   "codemirror_mode": {
    "name": "ipython",
    "version": 3
   },
   "file_extension": ".py",
   "mimetype": "text/x-python",
   "name": "python",
   "nbconvert_exporter": "python",
   "pygments_lexer": "ipython3",
   "version": "3.10.9"
  }
 },
 "nbformat": 4,
 "nbformat_minor": 2
}
